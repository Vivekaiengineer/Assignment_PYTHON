{
 "cells": [
  {
   "cell_type": "markdown",
   "id": "d52f8a84-7a2c-44d5-b05b-b62d923ca0e2",
   "metadata": {},
   "source": [
    "PYTHON BASICS"
   ]
  },
  {
   "cell_type": "markdown",
   "id": "bed5dcad-3c1e-40e2-ba03-faac5e32844b",
   "metadata": {},
   "source": [
    "Assignment Questions"
   ]
  },
  {
   "cell_type": "raw",
   "id": "886d66e1-1f71-443e-a55a-af41fe443480",
   "metadata": {},
   "source": [
    "TOPIC : Python Basics Variables"
   ]
  },
  {
   "cell_type": "markdown",
   "id": "789ec4b3-7751-4a2e-819b-7f2ed7f89eff",
   "metadata": {},
   "source": [
    "1.Declare two variables, `x` and `y`, and assign them integer values. Swap the\n",
    "values of these variables without using any temporary variable."
   ]
  },
  {
   "cell_type": "code",
   "execution_count": 3,
   "id": "c332afd1-f9fa-4155-be27-5271ce6d7fa4",
   "metadata": {},
   "outputs": [],
   "source": [
    "#Creating Variable With int Values\n",
    "x = 10\n",
    "y = 20\n",
    "#Swapping the Values using same variables without using temporary variables\n",
    "x,y = y,x"
   ]
  },
  {
   "cell_type": "code",
   "execution_count": 4,
   "id": "dcc8fab7-73bf-40bb-981a-09e4eb277e4b",
   "metadata": {},
   "outputs": [
    {
     "name": "stdout",
     "output_type": "stream",
     "text": [
      "20\n"
     ]
    }
   ],
   "source": [
    "#Swapped x values\n",
    "print(x)"
   ]
  },
  {
   "cell_type": "code",
   "execution_count": 5,
   "id": "72d9b230-de85-492f-b509-015ad13f921f",
   "metadata": {},
   "outputs": [
    {
     "name": "stdout",
     "output_type": "stream",
     "text": [
      "10\n"
     ]
    }
   ],
   "source": [
    "#Swapped y values\n",
    "print(y)"
   ]
  },
  {
   "cell_type": "code",
   "execution_count": null,
   "id": "653b6f30-ec02-4d69-82b7-bf0958d67683",
   "metadata": {},
   "outputs": [],
   "source": []
  },
  {
   "cell_type": "markdown",
   "id": "10670af6-de41-4933-b49a-e438cfc369d5",
   "metadata": {},
   "source": [
    "2. Create a program that calculates the area of a rectangle. Take the length and\n",
    "width as inputs from the user and store them in variables. Calculate and\n",
    "display the area."
   ]
  },
  {
   "cell_type": "code",
   "execution_count": 14,
   "id": "fda8ec9b-f451-4d11-b226-3d56897f4b9d",
   "metadata": {},
   "outputs": [
    {
     "name": "stdin",
     "output_type": "stream",
     "text": [
      "Enter the length of the rectangle (mm) :  1500\n",
      "Enter the width of the rectangle (mm) :  750\n"
     ]
    }
   ],
   "source": [
    "# Area formula of the Rectangle is (Area=length * width)\n",
    "#Length Variable Value in mm (Value type is int because dimensions is in mm)\n",
    "length = int(input(\"Enter the length of the rectangle (mm) : \"))\n",
    "# width variable value in mm\n",
    "width = int(input(\"Enter the width of the rectangle (mm) : \"))\n",
    "\n",
    "#Calculating the Ares of Rectangle\n",
    "Area = length * width\n"
   ]
  },
  {
   "cell_type": "code",
   "execution_count": 15,
   "id": "a3a3d893-4a53-47e2-8e48-133f8f7996ae",
   "metadata": {},
   "outputs": [
    {
     "name": "stdout",
     "output_type": "stream",
     "text": [
      "Area =  1125000 mm2\n"
     ]
    }
   ],
   "source": [
    "#Area of rectangle is\n",
    "print(\"Area = \",Area,\"mm2\")"
   ]
  },
  {
   "cell_type": "raw",
   "id": "42eca202-12ed-4856-99bc-8285443053d2",
   "metadata": {},
   "source": []
  },
  {
   "cell_type": "markdown",
   "id": "a8335bd9-f0ba-4f3b-9d0d-454784071fa6",
   "metadata": {},
   "source": [
    "3.Write a Python program that converts temperatures from Celsius to\n",
    "Fahrenheit. Take the temperature in Celsius as input, store it in a variable,\n",
    "convert it to Fahrenheit, and display the result."
   ]
  },
  {
   "cell_type": "code",
   "execution_count": 18,
   "id": "dea14801-dff7-42fa-a389-7980065e58ce",
   "metadata": {},
   "outputs": [
    {
     "name": "stdin",
     "output_type": "stream",
     "text": [
      "Enter the Temperature in celsius:  35\n"
     ]
    }
   ],
   "source": [
    "# Converting the temperature units from censius to Fahrenheit\n",
    "# code for taking user input\n",
    "ITemp = float(input(\"Enter the Temperature in celsius: \"))\n",
    "# Converting user input celsius to fahreneit\n",
    "OTemp = (Temp * 9/5) + 32\n"
   ]
  },
  {
   "cell_type": "code",
   "execution_count": 19,
   "id": "cd09c33e-5d1f-4b04-b6ea-15ed3535a491",
   "metadata": {},
   "outputs": [
    {
     "name": "stdout",
     "output_type": "stream",
     "text": [
      "Temperature in celsius is :  86.9\n"
     ]
    }
   ],
   "source": [
    "#Out Temprature as Fahrenheit\n",
    "print('Temperature in celsius is : ',OTemp)"
   ]
  },
  {
   "cell_type": "markdown",
   "id": "63affac4-1869-497f-8ff7-7a079f4830b3",
   "metadata": {},
   "source": []
  },
  {
   "cell_type": "raw",
   "id": "579ea095-396b-4339-8217-85a99c229d05",
   "metadata": {},
   "source": [
    "TOPIC: String Based Questions"
   ]
  },
  {
   "cell_type": "markdown",
   "id": "b1137649-93e5-4746-8e6b-bfd5ce8c02ae",
   "metadata": {},
   "source": [
    "1. Write a Python program that takes a string as input and prints the length of\n",
    "the string."
   ]
  },
  {
   "cell_type": "code",
   "execution_count": 21,
   "id": "6d28b8f1-1d11-410d-9583-a0fb5d6c1fb6",
   "metadata": {},
   "outputs": [
    {
     "name": "stdin",
     "output_type": "stream",
     "text": [
      "Enter your quote:  \"Life is Beatiful\"\n"
     ]
    }
   ],
   "source": [
    "# Taking String as a input\n",
    "Quotes = str(input(\"Enter your quote: \"))\n"
   ]
  },
  {
   "cell_type": "code",
   "execution_count": 22,
   "id": "fe529bc4-52bc-4245-b0bb-4dd948611929",
   "metadata": {},
   "outputs": [
    {
     "name": "stdout",
     "output_type": "stream",
     "text": [
      "18\n"
     ]
    }
   ],
   "source": [
    "#Printing length of the string\n",
    "\n",
    "print(len(Quotes))"
   ]
  },
  {
   "cell_type": "markdown",
   "id": "8ffedb76-7bb0-4f6e-83af-40df60491e02",
   "metadata": {},
   "source": []
  },
  {
   "cell_type": "raw",
   "id": "132d7ccc-d010-469b-967b-c59e68484716",
   "metadata": {},
   "source": [
    "2. Create a program that takes a sentence from the user and counts the number\n",
    "of vowels (a, e, i, o, u) in the string."
   ]
  },
  {
   "cell_type": "code",
   "execution_count": 3,
   "id": "58adad78-dc42-430d-8ccb-ddc7e69b588e",
   "metadata": {},
   "outputs": [
    {
     "name": "stdin",
     "output_type": "stream",
     "text": [
      "Enter your Sentence :  pwskills provide good platform for learning\n"
     ]
    },
    {
     "name": "stdout",
     "output_type": "stream",
     "text": [
      "Total number of vowels in the sentence is :  12\n"
     ]
    }
   ],
   "source": [
    "# Code for creating funtion of the above task\n",
    "def count_vowels(sentence):\n",
    "    #defining vowels\n",
    "    vowels =  (\"aeiouAEIOU\")\n",
    "    #vowel count start from\n",
    "    vowel_count = 0\n",
    "    # iteration for identify the vowels\n",
    "    for char in sentence:\n",
    "        if char in vowels:\n",
    "            vowel_count += 1\n",
    "    # Output from the sentence\n",
    "    return vowel_count\n",
    "# Get input From the user\n",
    "user_sentence = input(\"Enter your Sentence : \")\n",
    "#alling the function for output\n",
    "result = count_vowels(user_sentence)\n",
    "#Displaying the result\n",
    "print(\"Total number of vowels in the sentence is : \", result)\n",
    "\n"
   ]
  },
  {
   "cell_type": "markdown",
   "id": "a6f5c459-5fbe-4851-af07-186b6989e936",
   "metadata": {},
   "source": []
  },
  {
   "cell_type": "raw",
   "id": "1938b8de-41ff-4512-a198-f228bd69136e",
   "metadata": {},
   "source": [
    "3. Given a string, reverse the order of characters using string Slicing and print the reversed string"
   ]
  },
  {
   "cell_type": "code",
   "execution_count": 6,
   "id": "b1b2e54a-fefe-4b50-bd4c-1c7149b035f7",
   "metadata": {},
   "outputs": [
    {
     "name": "stdin",
     "output_type": "stream",
     "text": [
      "Enter your name:  Vivekanandan\n"
     ]
    },
    {
     "name": "stdout",
     "output_type": "stream",
     "text": [
      "nadnanakeviV\n"
     ]
    }
   ],
   "source": [
    "# writing a input string variable is name\n",
    "name = input(\"Enter your name: \")\n",
    "# reverse the order of the string using slicing\n",
    "myname=name[::-1]\n",
    "#printing reversed name string\n",
    "print(myname)"
   ]
  },
  {
   "cell_type": "markdown",
   "id": "1c683b0e-bfe3-4fab-ae68-e790b40b32d6",
   "metadata": {},
   "source": []
  },
  {
   "cell_type": "raw",
   "id": "2785d94a-2e6c-4334-9b98-5c8d371601c3",
   "metadata": {},
   "source": [
    "4.write a program that takes string as input and checks if it is a palindromes(reads the same forwards and backwards)."
   ]
  },
  {
   "cell_type": "code",
   "execution_count": 7,
   "id": "3744b7ab-3466-451c-9c32-05b04ef03703",
   "metadata": {},
   "outputs": [
    {
     "name": "stdin",
     "output_type": "stream",
     "text": [
      "Write a product name :  aimanpower\n"
     ]
    }
   ],
   "source": [
    "# Wring string as a input\n",
    "product = input(\"Write a product name : \")\n",
    "\n",
    "#checking it is a palindromes or not"
   ]
  },
  {
   "cell_type": "code",
   "execution_count": 8,
   "id": "df6c6a9d-cddd-4c9e-9f66-67bbd343e34f",
   "metadata": {},
   "outputs": [
    {
     "name": "stdin",
     "output_type": "stream",
     "text": [
      "Enter your string :  pwskills provide a good platform for learning\n"
     ]
    },
    {
     "name": "stdout",
     "output_type": "stream",
     "text": [
      "The input string is not a palindrome\n"
     ]
    }
   ],
   "source": [
    "# code for palindrome idendification function\n",
    "def is_palindrome(input_string):\n",
    "    #Rermoving Spaces and making the string as a lowercase\n",
    "    input_string = input_string.replace(\" \", \"\").lower()\n",
    "    #code for reversing the input string\n",
    "    reversed_string = input_string[::-1]\n",
    "    # Code for checking palindrome\n",
    "    return input_string == reversed_string\n",
    "# Get thr string from the user\n",
    "\n",
    "user_input = input(\"Enter your string : \")\n",
    "\n",
    "# Checking the input string is a palindrome\n",
    "if is_palindrome(user_input):\n",
    "    print(\"The input string is a palindrome\")\n",
    "else:\n",
    "    print(\"The input string is not a palindrome\")\n",
    "    "
   ]
  },
  {
   "cell_type": "code",
   "execution_count": 9,
   "id": "6d93c777-4a13-4cbf-b23a-760acd2992cb",
   "metadata": {},
   "outputs": [
    {
     "name": "stdin",
     "output_type": "stream",
     "text": [
      "Enter your string :  REVIVER\n"
     ]
    },
    {
     "name": "stdout",
     "output_type": "stream",
     "text": [
      "The input string is a palindrome\n"
     ]
    }
   ],
   "source": [
    "# code for palindrome idendification function\n",
    "def is_palindrome(input_string):\n",
    "    #Rermoving Spaces and making the string as a lowercase\n",
    "    input_string = input_string.replace(\" \", \"\").lower()\n",
    "    #code for reversing the input string\n",
    "    reversed_string = input_string[::-1]\n",
    "    # Code for checking palindrome\n",
    "    return input_string == reversed_string\n",
    "# Get thr string from the user\n",
    "\n",
    "user_input = input(\"Enter your string : \")\n",
    "\n",
    "# Checking the input string is a palindrome\n",
    "if is_palindrome(user_input):\n",
    "    print(\"The input string is a palindrome\")\n",
    "else:\n",
    "    print(\"The input string is not a palindrome\")\n",
    "    \n",
    "    "
   ]
  },
  {
   "cell_type": "markdown",
   "id": "92d94b0c-9e98-46be-80e7-ea788e37803a",
   "metadata": {},
   "source": []
  },
  {
   "cell_type": "raw",
   "id": "b7fba2ed-f5a1-4b7b-b101-94b41402ada8",
   "metadata": {},
   "source": [
    "5. Create a program that takes a string as input and removes all the spaces from it. Print the modified string without spaces."
   ]
  },
  {
   "cell_type": "code",
   "execution_count": 18,
   "id": "68d8131a-89c0-4081-9e97-51531897446f",
   "metadata": {},
   "outputs": [
    {
     "name": "stdin",
     "output_type": "stream",
     "text": [
      "Enter your string :  ai is the future\n"
     ]
    },
    {
     "name": "stdout",
     "output_type": "stream",
     "text": [
      "aiisthefuture\n"
     ]
    }
   ],
   "source": [
    "# create a function for remove all the spaces from it\n",
    "def remove_spaces(input_string):\n",
    "    output_string = input_string.replace(\" \", \"\")\n",
    "    return output_string\n",
    "# get the user input\n",
    "user_input = input(\"Enter your string : \")\n",
    "\n",
    "# call the functions\n",
    "result = remove_spaces(user_input)\n",
    "\n",
    "print(result)\n",
    "\n"
   ]
  },
  {
   "cell_type": "code",
   "execution_count": null,
   "id": "b4135117-c3bd-4b51-91b2-69b9d4e1b4ca",
   "metadata": {},
   "outputs": [],
   "source": []
  }
 ],
 "metadata": {
  "kernelspec": {
   "display_name": "Python 3 (ipykernel)",
   "language": "python",
   "name": "python3"
  },
  "language_info": {
   "codemirror_mode": {
    "name": "ipython",
    "version": 3
   },
   "file_extension": ".py",
   "mimetype": "text/x-python",
   "name": "python",
   "nbconvert_exporter": "python",
   "pygments_lexer": "ipython3",
   "version": "3.10.8"
  }
 },
 "nbformat": 4,
 "nbformat_minor": 5
}
