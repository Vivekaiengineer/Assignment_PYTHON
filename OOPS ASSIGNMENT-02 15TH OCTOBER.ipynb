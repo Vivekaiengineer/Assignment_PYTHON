{
 "cells": [
  {
   "cell_type": "markdown",
   "id": "a436a737",
   "metadata": {},
   "source": [
    "# OOPS ASSIGNMENT-02 15TH OCTOBER"
   ]
  },
  {
   "cell_type": "markdown",
   "id": "e607b440",
   "metadata": {},
   "source": [
    "# Constructor:"
   ]
  },
  {
   "cell_type": "code",
   "execution_count": null,
   "id": "e9e72323",
   "metadata": {},
   "outputs": [],
   "source": [
    "1. What is a constructor in Python? Explain its purpose and usage."
   ]
  },
  {
   "cell_type": "code",
   "execution_count": null,
   "id": "75ce0dad",
   "metadata": {},
   "outputs": [],
   "source": [
    " # A constructor in Python is a special method defined by __init__() that initializes an object's attributes when an instance of the class is created. It is used to ensure the object's properties are set correctly upon creation. Here's an example:"
   ]
  },
  {
   "cell_type": "code",
   "execution_count": 1,
   "id": "7802ed54",
   "metadata": {},
   "outputs": [
    {
     "name": "stdout",
     "output_type": "stream",
     "text": [
      "Car: Toyota Corolla\n",
      "Car: Honda Civic\n"
     ]
    }
   ],
   "source": [
    "class Car:\n",
    "    def __init__(self, brand, model):\n",
    "        self.brand = brand\n",
    "        self.model = model\n",
    "\n",
    "    def display_car(self):\n",
    "        print(f\"Car: {self.brand} {self.model}\")\n",
    "\n",
    "# Creating objects\n",
    "car1 = Car(\"Toyota\", \"Corolla\")\n",
    "car2 = Car(\"Honda\", \"Civic\")\n",
    "\n",
    "# Displaying details\n",
    "car1.display_car()  # Output: Car: Toyota Corolla\n",
    "car2.display_car()  # Output: Car: Honda Civic\n"
   ]
  },
  {
   "cell_type": "raw",
   "id": "faf71a6f",
   "metadata": {},
   "source": []
  },
  {
   "cell_type": "code",
   "execution_count": null,
   "id": "52592c9e",
   "metadata": {},
   "outputs": [],
   "source": [
    "2. Differentiate between a parameterless constructor and a parameterized constructor in Python?"
   ]
  },
  {
   "cell_type": "code",
   "execution_count": null,
   "id": "9e1adf54",
   "metadata": {},
   "outputs": [],
   "source": [
    "Feature\tParameterless Constructor\tParameterized Constructor\n",
    "Definition\tDoes not take any parameters (except self).\tAccepts parameters to initialize attributes.\n",
    "Flexibility\tLimited to default values.\tAllows custom values during object creation.\n",
    "Use Case\tSuitable when attributes have fixed defaults.\tSuitable when attributes vary for each object."
   ]
  },
  {
   "cell_type": "code",
   "execution_count": null,
   "id": "66b52fbd",
   "metadata": {},
   "outputs": [],
   "source": []
  },
  {
   "cell_type": "code",
   "execution_count": null,
   "id": "314e59b1",
   "metadata": {},
   "outputs": [],
   "source": []
  },
  {
   "cell_type": "code",
   "execution_count": null,
   "id": "e70ddf03",
   "metadata": {},
   "outputs": [],
   "source": []
  },
  {
   "cell_type": "code",
   "execution_count": null,
   "id": "240549ec",
   "metadata": {},
   "outputs": [],
   "source": []
  },
  {
   "cell_type": "code",
   "execution_count": null,
   "id": "79730202",
   "metadata": {},
   "outputs": [],
   "source": []
  }
 ],
 "metadata": {
  "kernelspec": {
   "display_name": "Python 3 (ipykernel)",
   "language": "python",
   "name": "python3"
  },
  "language_info": {
   "codemirror_mode": {
    "name": "ipython",
    "version": 3
   },
   "file_extension": ".py",
   "mimetype": "text/x-python",
   "name": "python",
   "nbconvert_exporter": "python",
   "pygments_lexer": "ipython3",
   "version": "3.9.12"
  }
 },
 "nbformat": 4,
 "nbformat_minor": 5
}
